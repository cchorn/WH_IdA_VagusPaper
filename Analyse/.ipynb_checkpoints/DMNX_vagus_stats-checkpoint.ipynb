{
 "cells": [
  {
   "cell_type": "code",
   "execution_count": 1,
   "metadata": {},
   "outputs": [
    {
     "data": {
      "text/html": [
       "<table>\n",
       "<thead><tr><th scope=col>X</th><th scope=col>Experiment</th><th scope=col>Baseline</th><th scope=col>file_name</th><th scope=col>chan_name</th><th scope=col>Laser_start</th><th scope=col>Laser_end</th><th scope=col>PreLaserFreq</th><th scope=col>PreLaserNumEvents</th><th scope=col>LaserFreq</th><th scope=col>LaserNumEvents</th></tr></thead>\n",
       "<tbody>\n",
       "\t<tr><td>0              </td><td>2018_05_21     </td><td>0.311          </td><td>EMG_WH_Block-18</td><td>Stmch_spk      </td><td> 61.4030       </td><td> 81.1037       </td><td>0.2000         </td><td>2              </td><td>2.0304         </td><td>40             </td></tr>\n",
       "\t<tr><td>1              </td><td>2018_05_21     </td><td>0.311          </td><td>EMG_WH_Block-18</td><td>Stmch_spk      </td><td>101.4147       </td><td>121.1154       </td><td>0.2462         </td><td>5              </td><td>1.7766         </td><td>35             </td></tr>\n",
       "\t<tr><td>2              </td><td>2018_05_21     </td><td>0.311          </td><td>EMG_WH_Block-18</td><td>Stmch_spk      </td><td>141.4264       </td><td>161.1268       </td><td>0.3939         </td><td>8              </td><td>1.7766         </td><td>35             </td></tr>\n",
       "\t<tr><td>3              </td><td>2018_05_21     </td><td>0.311          </td><td>EMG_WH_Block-18</td><td>Stmch_spk      </td><td>181.4377       </td><td>201.1385       </td><td>0.3446         </td><td>7              </td><td>1.9796         </td><td>39             </td></tr>\n",
       "\t<tr><td>4              </td><td>2018_05_21     </td><td>0.311          </td><td>EMG_WH_Block-18</td><td>Stmch_spk      </td><td>221.4494       </td><td>241.1502       </td><td>0.1969         </td><td>4              </td><td>2.0811         </td><td>41             </td></tr>\n",
       "</tbody>\n",
       "</table>\n"
      ],
      "text/latex": [
       "\\begin{tabular}{r|lllllllllll}\n",
       " X & Experiment & Baseline & file\\_name & chan\\_name & Laser\\_start & Laser\\_end & PreLaserFreq & PreLaserNumEvents & LaserFreq & LaserNumEvents\\\\\n",
       "\\hline\n",
       "\t 0                   & 2018\\_05\\_21      & 0.311               & EMG\\_WH\\_Block-18 & Stmch\\_spk         &  61.4030            &  81.1037            & 0.2000              & 2                   & 2.0304              & 40                 \\\\\n",
       "\t 1                   & 2018\\_05\\_21      & 0.311               & EMG\\_WH\\_Block-18 & Stmch\\_spk         & 101.4147            & 121.1154            & 0.2462              & 5                   & 1.7766              & 35                 \\\\\n",
       "\t 2                   & 2018\\_05\\_21      & 0.311               & EMG\\_WH\\_Block-18 & Stmch\\_spk         & 141.4264            & 161.1268            & 0.3939              & 8                   & 1.7766              & 35                 \\\\\n",
       "\t 3                   & 2018\\_05\\_21      & 0.311               & EMG\\_WH\\_Block-18 & Stmch\\_spk         & 181.4377            & 201.1385            & 0.3446              & 7                   & 1.9796              & 39                 \\\\\n",
       "\t 4                   & 2018\\_05\\_21      & 0.311               & EMG\\_WH\\_Block-18 & Stmch\\_spk         & 221.4494            & 241.1502            & 0.1969              & 4                   & 2.0811              & 41                 \\\\\n",
       "\\end{tabular}\n"
      ],
      "text/markdown": [
       "\n",
       "X | Experiment | Baseline | file_name | chan_name | Laser_start | Laser_end | PreLaserFreq | PreLaserNumEvents | LaserFreq | LaserNumEvents | \n",
       "|---|---|---|---|---|\n",
       "| 0               | 2018_05_21      | 0.311           | EMG_WH_Block-18 | Stmch_spk       |  61.4030        |  81.1037        | 0.2000          | 2               | 2.0304          | 40              | \n",
       "| 1               | 2018_05_21      | 0.311           | EMG_WH_Block-18 | Stmch_spk       | 101.4147        | 121.1154        | 0.2462          | 5               | 1.7766          | 35              | \n",
       "| 2               | 2018_05_21      | 0.311           | EMG_WH_Block-18 | Stmch_spk       | 141.4264        | 161.1268        | 0.3939          | 8               | 1.7766          | 35              | \n",
       "| 3               | 2018_05_21      | 0.311           | EMG_WH_Block-18 | Stmch_spk       | 181.4377        | 201.1385        | 0.3446          | 7               | 1.9796          | 39              | \n",
       "| 4               | 2018_05_21      | 0.311           | EMG_WH_Block-18 | Stmch_spk       | 221.4494        | 241.1502        | 0.1969          | 4               | 2.0811          | 41              | \n",
       "\n",
       "\n"
      ],
      "text/plain": [
       "  X Experiment Baseline file_name       chan_name Laser_start Laser_end\n",
       "1 0 2018_05_21 0.311    EMG_WH_Block-18 Stmch_spk  61.4030     81.1037 \n",
       "2 1 2018_05_21 0.311    EMG_WH_Block-18 Stmch_spk 101.4147    121.1154 \n",
       "3 2 2018_05_21 0.311    EMG_WH_Block-18 Stmch_spk 141.4264    161.1268 \n",
       "4 3 2018_05_21 0.311    EMG_WH_Block-18 Stmch_spk 181.4377    201.1385 \n",
       "5 4 2018_05_21 0.311    EMG_WH_Block-18 Stmch_spk 221.4494    241.1502 \n",
       "  PreLaserFreq PreLaserNumEvents LaserFreq LaserNumEvents\n",
       "1 0.2000       2                 2.0304    40            \n",
       "2 0.2462       5                 1.7766    35            \n",
       "3 0.3939       8                 1.7766    35            \n",
       "4 0.3446       7                 1.9796    39            \n",
       "5 0.1969       4                 2.0811    41            "
      ]
     },
     "metadata": {},
     "output_type": "display_data"
    }
   ],
   "source": [
    "d <- read.csv('ForR.csv')\n",
    "d"
   ]
  },
  {
   "cell_type": "code",
   "execution_count": 3,
   "metadata": {},
   "outputs": [
    {
     "data": {
      "text/plain": [
       "\n",
       "\tPaired t-test\n",
       "\n",
       "data:  d$PreLaserFreq and d$LaserFreq\n",
       "t = -17.751, df = 4, p-value = 5.918e-05\n",
       "alternative hypothesis: true difference in means is not equal to 0\n",
       "95 percent confidence interval:\n",
       " -1.911018 -1.394062\n",
       "sample estimates:\n",
       "mean of the differences \n",
       "               -1.65254 \n"
      ]
     },
     "metadata": {},
     "output_type": "display_data"
    }
   ],
   "source": [
    "t.test(d$PreLaserFreq, d$LaserFreq, paired=TRUE)"
   ]
  }
 ],
 "metadata": {
  "kernelspec": {
   "display_name": "R",
   "language": "R",
   "name": "ir"
  },
  "language_info": {
   "codemirror_mode": "r",
   "file_extension": ".r",
   "mimetype": "text/x-r-source",
   "name": "R",
   "pygments_lexer": "r",
   "version": "3.4.3"
  }
 },
 "nbformat": 4,
 "nbformat_minor": 2
}
