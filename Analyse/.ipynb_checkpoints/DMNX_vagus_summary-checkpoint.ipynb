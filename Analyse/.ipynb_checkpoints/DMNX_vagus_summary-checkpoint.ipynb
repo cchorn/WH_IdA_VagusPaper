{
 "cells": [
  {
   "cell_type": "code",
   "execution_count": 12,
   "metadata": {},
   "outputs": [],
   "source": [
    "import pandas as pd\n",
    "%matplotlib inline\n",
    "import matplotlib.pyplot as plt\n",
    "from scipy.stats import sem\n",
    "import numpy as np\n",
    "from numpy import std, sqrt, r_\n",
    "import re\n",
    "import pdb\n"
   ]
  },
  {
   "cell_type": "markdown",
   "metadata": {},
   "source": [
    "### Plotting helpers"
   ]
  },
  {
   "cell_type": "code",
   "execution_count": 13,
   "metadata": {},
   "outputs": [],
   "source": [
    "def nice_spines(ax):\n",
    "    for loc, spine in ax.spines.items():\n",
    "        if loc in ['left','bottom']:\n",
    "            pass\n",
    "            # spine.set_position(('outward',4)) # outward by 4 points\n",
    "        elif loc in ['right','top']:\n",
    "            spine.set_color('none') # don't draw spine\n",
    "        else:\n",
    "            raise ValueError('unknown spine location: %s'%loc)\n",
    "    ax.xaxis.set_ticks_position('bottom')\n",
    "    ax.yaxis.set_ticks_position('left')\n",
    "    \n",
    "def calc_axes_bb(axes_size_inches, fig_size_inches, pos=0, hpad = 0.01, vpad = 0.01):\n",
    "    width = axes_size_inches[0]/fig_size_inches[0]\n",
    "    height = axes_size_inches[1]/fig_size_inches[1]\n",
    "    left = 0\n",
    "    bottom = 0\n",
    "    \n",
    "    # pos is position arg\n",
    "    if pos not in range(9): pos = 0\n",
    "    if pos==0:\n",
    "        # upper right\n",
    "        left, bottom = [1-width-hpad, 1-height-vpad]\n",
    "    elif pos==1:\n",
    "        # upper center\n",
    "        left, bottom = [(1-width)/2., 1-height-vpad]\n",
    "    elif pos==2:\n",
    "        # upper left\n",
    "        left, bottom = [0+hpad, 1-height-vpad]\n",
    "    elif pos==3:\n",
    "        # middle left\n",
    "        left, bottom = [hpad, (1-height)/2.]\n",
    "    elif pos==4:\n",
    "        # bottom left\n",
    "        left, bottom = [hpad,vpad]\n",
    "    elif pos==5:\n",
    "        # bottom center\n",
    "        left, bottom = [(1-width)/2., vpad]\n",
    "    elif pos==6:\n",
    "        # bottom right\n",
    "        left, bottom = [1-width-hpad, vpad]\n",
    "    elif pos==7:\n",
    "        # middle right\n",
    "        left, bottom = [1-width-hpad, (1-height)/2.]\n",
    "    elif pos==8:\n",
    "        # centered\n",
    "        left, bottom = [(1-width)/2., (1-height)/2.]\n",
    "\n",
    "    return [left, bottom, width, height]\n",
    "\n",
    "plt.rcParams.update({'axes.labelsize':8,\n",
    "                     'axes.labelpad':2.5,\n",
    "                     'axes.spines.right':False,\n",
    "                     'axes.spines.top':False,\n",
    "                     'axes.linewidth':1,\n",
    "                     'savefig.transparent':True,\n",
    "                     'xtick.direction':'out',\n",
    "                     'xtick.labelsize':8,\n",
    "                     'xtick.major.size':3,\n",
    "                     'xtick.major.width':1,\n",
    "                     'xtick.minor.size':3,\n",
    "                     'xtick.minor.width':1,\n",
    "                     'xtick.major.pad':3,\n",
    "                     'xtick.minor.visible':False,\n",
    "                     'xtick.bottom':True,\n",
    "                     'xtick.top':False,\n",
    "                     'ytick.direction':'out',\n",
    "                     'ytick.labelsize':8,\n",
    "                     'ytick.major.size':3,\n",
    "                     'ytick.major.width':1,\n",
    "                     'ytick.minor.size':3,\n",
    "                     'ytick.minor.width':1,\n",
    "                     'ytick.major.pad':3,\n",
    "                     'ytick.minor.visible':False,\n",
    "                     'ytick.left':True,\n",
    "                     'ytick.right':False,\n",
    "                     'lines.linewidth':1,\n",
    "                     'legend.fontsize':10,\n",
    "                     'legend.numpoints':1,\n",
    "                     'legend.frameon':False,\n",
    "                     'legend.handleheight':0.5,\n",
    "                     'legend.handlelength':0.7,\n",
    "                     'legend.handletextpad':0.3,\n",
    "                     'font.sans-serif':['Calibri']})\n"
   ]
  },
  {
   "cell_type": "markdown",
   "metadata": {},
   "source": [
    "## Read Data and aggergate"
   ]
  },
  {
   "cell_type": "code",
   "execution_count": 14,
   "metadata": {},
   "outputs": [],
   "source": [
    "d = pd.read_excel('AAVrgDMNX_Stomach.xlsx',sheet_name='Laser')\n",
    "bl = pd.read_excel('AAVrgDMNX_Stomach.xlsx',sheet_name='Baseline')\n",
    "\n",
    "d = pd.merge(bl[['Experiment','Baseline']],d, on='Experiment')\n",
    "d.to_csv('ForR.csv')"
   ]
  },
  {
   "cell_type": "code",
   "execution_count": 15,
   "metadata": {},
   "outputs": [
    {
     "data": {
      "text/html": [
       "<div>\n",
       "<style scoped>\n",
       "    .dataframe tbody tr th:only-of-type {\n",
       "        vertical-align: middle;\n",
       "    }\n",
       "\n",
       "    .dataframe tbody tr th {\n",
       "        vertical-align: top;\n",
       "    }\n",
       "\n",
       "    .dataframe thead th {\n",
       "        text-align: right;\n",
       "    }\n",
       "</style>\n",
       "<table border=\"1\" class=\"dataframe\">\n",
       "  <thead>\n",
       "    <tr style=\"text-align: right;\">\n",
       "      <th></th>\n",
       "      <th>Baseline</th>\n",
       "      <th>LaserFreq</th>\n",
       "      <th>PreLaserFreq</th>\n",
       "    </tr>\n",
       "  </thead>\n",
       "  <tbody>\n",
       "    <tr>\n",
       "      <th>mean</th>\n",
       "      <td>0.311</td>\n",
       "      <td>1.928860</td>\n",
       "      <td>0.276320</td>\n",
       "    </tr>\n",
       "    <tr>\n",
       "      <th>sem</th>\n",
       "      <td>0.000</td>\n",
       "      <td>0.064198</td>\n",
       "      <td>0.039703</td>\n",
       "    </tr>\n",
       "    <tr>\n",
       "      <th>count</th>\n",
       "      <td>5.000</td>\n",
       "      <td>5.000000</td>\n",
       "      <td>5.000000</td>\n",
       "    </tr>\n",
       "  </tbody>\n",
       "</table>\n",
       "</div>"
      ],
      "text/plain": [
       "       Baseline  LaserFreq  PreLaserFreq\n",
       "mean      0.311   1.928860      0.276320\n",
       "sem       0.000   0.064198      0.039703\n",
       "count     5.000   5.000000      5.000000"
      ]
     },
     "execution_count": 15,
     "metadata": {},
     "output_type": "execute_result"
    }
   ],
   "source": [
    "SumD = d[['Baseline','LaserFreq','PreLaserFreq']].agg(['mean','sem','count'])\n",
    "SumD"
   ]
  },
  {
   "cell_type": "code",
   "execution_count": 16,
   "metadata": {},
   "outputs": [
    {
     "data": {
      "image/png": "[encoded data removed]",
      "text/plain": [
       "<Figure size 432x288 with 1 Axes>"
      ]
     },
     "metadata": {},
     "output_type": "display_data"
    }
   ],
   "source": [
    "# working out the axes size, and fig size\n",
    "axes_size_inches = (1.,1.0)\n",
    "fig_size_inches = (2.25, 2.25)\n",
    "axes_bb = calc_axes_bb(axes_size_inches, fig_size_inches,pos = 1, vpad = 0.2)\n",
    "\n",
    "fig = plt.figure()\n",
    "ax = plt.axes(axes_bb)\n",
    "fig.add_axes(ax)\n",
    "xs = np.r_[0:3]\n"
   ]
  },
  {
   "cell_type": "code",
   "execution_count": 17,
   "metadata": {},
   "outputs": [
    {
     "data": {
      "image/png": "[encoded data removed]",
      "text/plain": [
       "<Figure size 162x162 with 1 Axes>"
      ]
     },
     "execution_count": 17,
     "metadata": {},
     "output_type": "execute_result"
    }
   ],
   "source": [
    "ax.cla()\n",
    "ax.bar(xs,SumD.loc['mean'].values,\n",
    "       yerr = SumD.loc['sem'].values,\n",
    "       capsize = 1,\n",
    "       facecolor = 'None',\n",
    "       edgecolor = 'black',\n",
    "       width = 0.6)\n",
    "for i,row in d.iterrows():\n",
    "    ax.plot(xs[1:]+np.random.normal(0,0.08,len(xs[1:])), \n",
    "            row[['LaserFreq','PreLaserFreq']],'o',\n",
    "            ms = 3,\n",
    "            zorder = 0,\n",
    "            markerfacecolor = 'White',\n",
    "            markeredgecolor = 'grey')\n",
    "ax.set_ylim((0,2.5))\n",
    "ax.set_xlim((-0.8,2.8))\n",
    "ax.xaxis.set_ticks([])\n",
    "ax.xaxis.set_ticklabels([])\n",
    "\n",
    "ax.set_ylabel('Stomach Events (Hz)')\n",
    "ax.set_xlabel('')\n",
    "\n",
    "fig.set_size_inches(fig_size_inches)\n",
    "fig.savefig('QUANTIFICATION_AAVrgGut_ChR2DMNX.pdf',transparent=True)\n",
    "#plt.close('all')\n",
    "fig"
   ]
  }
 ],
 "metadata": {
  "kernelspec": {
   "display_name": "Python 3",
   "language": "python",
   "name": "python3"
  },
  "language_info": {
   "codemirror_mode": {
    "name": "ipython",
    "version": 3
   },
   "file_extension": ".py",
   "mimetype": "text/x-python",
   "name": "python",
   "nbconvert_exporter": "python",
   "pygments_lexer": "ipython3",
   "version": "3.6.5"
  }
 },
 "nbformat": 4,
 "nbformat_minor": 2
}
